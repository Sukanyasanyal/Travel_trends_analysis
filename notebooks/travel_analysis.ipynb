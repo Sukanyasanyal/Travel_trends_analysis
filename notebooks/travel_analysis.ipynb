{
  "nbformat": 4,
  "nbformat_minor": 0,
  "metadata": {
    "colab": {
      "provenance": []
    },
    "kernelspec": {
      "name": "python3",
      "display_name": "Python 3"
    },
    "language_info": {
      "name": "python"
    }
  },
  "cells": [
    {
      "cell_type": "code",
      "execution_count": null,
      "metadata": {
        "id": "KCUPj0oXg_d4"
      },
      "outputs": [],
      "source": [
        "import pandas as pd\n",
        "import numpy as np"
      ]
    },
    {
      "cell_type": "code",
      "source": [
        "import pandas as pd\n",
        "import numpy as np\n",
        "\n",
        "\n",
        "try:\n",
        "\n",
        "    df_happiness = pd.read_csv(\"World-happiness-report-updated_2024.csv\", encoding='latin-1')\n",
        "    df_tourism = pd.read_csv(\"world_tourism_economy_data.csv\", encoding='latin-1')\n",
        "    df_flights = pd.read_csv(\"Scraped_dataset.csv\", encoding='latin-1')\n",
        "\n",
        "    print(\"Files loaded successfully with 'latin-1' encoding. Checking initial rows...\")\n",
        "    print(\"\\nDF Happiness Head:\\n\", df_happiness.head(2))\n",
        "    print(\"\\nDF Tourism Head:\\n\", df_tourism.head(2))\n",
        "    print(\"\\nDF Flights Head:\\n\", df_flights.head(2))\n",
        "\n",
        "except Exception as e:\n",
        "    print(f\"Error loading files. Please check the exact file names: {e}\")\n"
      ],
      "metadata": {
        "colab": {
          "base_uri": "https://localhost:8080/"
        },
        "id": "nWDYKVnti8hV",
        "outputId": "4ca5256e-3533-4010-e88d-b6eafb3bbf8e"
      },
      "execution_count": null,
      "outputs": [
        {
          "output_type": "stream",
          "name": "stdout",
          "text": [
            "Files loaded successfully with 'latin-1' encoding. Checking initial rows...\n",
            "\n",
            "DF Happiness Head:\n",
            "   Country name  year  Life Ladder  Log GDP per capita  Social support  \\\n",
            "0  Afghanistan  2008        3.724               7.350           0.451   \n",
            "1  Afghanistan  2009        4.402               7.509           0.552   \n",
            "\n",
            "   Healthy life expectancy at birth  Freedom to make life choices  Generosity  \\\n",
            "0                              50.5                         0.718       0.164   \n",
            "1                              50.8                         0.679       0.187   \n",
            "\n",
            "   Perceptions of corruption  Positive affect  Negative affect  \n",
            "0                      0.882            0.414            0.258  \n",
            "1                      0.850            0.481            0.237  \n",
            "\n",
            "DF Tourism Head:\n",
            "                        country country_code  year  tourism_receipts  \\\n",
            "0                        Aruba          ABW  1999      7.820000e+08   \n",
            "1  Africa Eastern and Southern          AFE  1999      8.034209e+09   \n",
            "\n",
            "   tourism_arrivals  tourism_exports  tourism_departures  \\\n",
            "0      9.720000e+05        62.542949                 NaN   \n",
            "1      1.530938e+07        12.204030                 NaN   \n",
            "\n",
            "   tourism_expenditures           gdp  inflation  unemployment  \n",
            "0              9.495387  1.722905e+09   2.280372           NaN  \n",
            "1              7.760536  2.654293e+11   7.819865           NaN  \n",
            "\n",
            "DF Flights Head:\n",
            "   Date of Booking Date of Journey                Airline-Class Departure Time  \\\n",
            "0      15/01/2023      16/01/2023  SpiceJet \\nSG-8169\\nECONOMY   20:00\\nDelhi   \n",
            "1      15/01/2023      16/01/2023    Indigo \\n6E-2519\\nECONOMY   23:00\\nDelhi   \n",
            "\n",
            "    Arrival Time Duration Total Stops  Price  \n",
            "0  22:05\\nMumbai  02h 05m    non-stop  5,335  \n",
            "1  01:20\\nMumbai  02h 20m    non-stop  5,899  \n"
          ]
        }
      ]
    },
    {
      "cell_type": "code",
      "source": [
        "\n",
        "import pandas as pd\n",
        "\n",
        "try:\n",
        "    df_tourism = pd.read_csv(\"world_tourism_economy_data.csv\", encoding='latin-1')\n",
        "    df_flights = pd.read_csv(\"Scraped_dataset.csv\", encoding='latin-1')\n",
        "\n",
        "    print(\"--- Tourism Economy Columns (df_tourism) ---\")\n",
        "    print(df_tourism.columns.tolist())\n",
        "\n",
        "    print(\"\\n--- Scraped Flight Columns (df_flights) ---\")\n",
        "    print(df_flights.columns.tolist())\n",
        "\n",
        "except Exception as e:\n",
        "    print(f\"Error reading files for column inspection: {e}\")"
      ],
      "metadata": {
        "colab": {
          "base_uri": "https://localhost:8080/"
        },
        "id": "WM23UwYGpU9f",
        "outputId": "4c39d465-fab6-44bd-94cd-f498bc9d1ca3"
      },
      "execution_count": null,
      "outputs": [
        {
          "output_type": "stream",
          "name": "stdout",
          "text": [
            "--- Tourism Economy Columns (df_tourism) ---\n",
            "['country', 'country_code', 'year', 'tourism_receipts', 'tourism_arrivals', 'tourism_exports', 'tourism_departures', 'tourism_expenditures', 'gdp', 'inflation', 'unemployment']\n",
            "\n",
            "--- Scraped Flight Columns (df_flights) ---\n",
            "['Date of Booking', 'Date of Journey', 'Airline-Class', 'Departure Time', 'Arrival Time', 'Duration', 'Total Stops', 'Price']\n"
          ]
        }
      ]
    },
    {
      "cell_type": "code",
      "source": [
        "print(\"\\n--- Cleaning Happiness Data  ---\")\n",
        "\n",
        "# 1. Standardize and select columns\n",
        "df_happiness.rename(columns={\n",
        "    'Country name': 'Country',\n",
        "    'year': 'Year',\n",
        "    'Life Ladder': 'Happiness_Score',\n",
        "    'Log GDP per capita': 'Log_GDP',\n",
        "    'Freedom to make life choices': 'Freedom_Score'\n",
        "}, inplace=True)\n",
        "\n",
        "# 2. Cleaning and filtering for the latest year\n",
        "df_happiness.dropna(subset=['Happiness_Score', 'Country', 'Year'], inplace=True)\n",
        "df_happiness['Country'] = df_happiness['Country'].str.strip()\n",
        "\n",
        "# Getting the latest year available in happiness data (which covers 2005-2024)\n",
        "LATEST_YEAR = df_happiness['Year'].max()\n",
        "\n",
        "df_happiness_final = df_happiness[df_happiness['Year'] == LATEST_YEAR].copy()\n",
        "\n",
        "# 3. Selecting final columns for merging\n",
        "df_happiness_final = df_happiness_final[['Country', 'Happiness_Score', 'Log_GDP', 'Freedom_Score']].copy()\n",
        "df_happiness_final.rename(columns={'Happiness_Score': f'Happiness_Score_{LATEST_YEAR}'}, inplace=True)\n",
        "\n",
        "print(f\"Happiness Data Cleaned. Final dataframe (df_happiness_final) created using data from Year: {LATEST_YEAR}\")"
      ],
      "metadata": {
        "colab": {
          "base_uri": "https://localhost:8080/"
        },
        "id": "uguurGTnsyz-",
        "outputId": "cbd251a9-f8b2-4c1d-e966-8eb1815c81af"
      },
      "execution_count": null,
      "outputs": [
        {
          "output_type": "stream",
          "name": "stdout",
          "text": [
            "\n",
            "--- Cleaning Happiness Data  ---\n",
            "Happiness Data Cleaned. Final dataframe (df_happiness_final) created using data from Year: 2023\n"
          ]
        }
      ]
    },
    {
      "cell_type": "code",
      "source": [
        "print(\"\\n--- Cleaning Tourism Data (Final Simplified) ---\")\n",
        "\n",
        "# Columns identified: 'country', 'year', 'tourism_arrivals', 'tourism_receipts'\n",
        "df_tourism.dropna(subset=['country', 'year', 'tourism_arrivals', 'tourism_receipts'], inplace=True)\n",
        "\n",
        "# Ensuring Year is numeric\n",
        "df_tourism['year'] = pd.to_numeric(df_tourism['year'], errors='coerce', downcast='integer')\n",
        "df_tourism['country'] = df_tourism['country'].str.strip()\n",
        "\n",
        "# Since the latest year is 2020, filtering for only 2020 data\n",
        "LATEST_TOURISM_YEAR = df_tourism['year'].max()\n",
        "df_tourism_final = df_tourism[df_tourism['year'] == LATEST_TOURISM_YEAR].copy()\n",
        "\n",
        "# Selecting only the columns needed for merging\n",
        "df_tourism_final = df_tourism_final[['country', 'tourism_arrivals', 'tourism_receipts']].copy()\n",
        "\n",
        "# Renaming columns for clarity in the final file\n",
        "df_tourism_final.rename(columns={\n",
        "    'country': 'Country',\n",
        "    'tourism_arrivals': f'Visitors_{LATEST_TOURISM_YEAR}',\n",
        "    'tourism_receipts': f'Tourism_Revenue_{LATEST_TOURISM_YEAR}_USD'\n",
        "}, inplace=True)\n",
        "\n",
        "print(f\"Tourism Data Cleaned. Using metrics from the latest available year: {LATEST_TOURISM_YEAR}\")"
      ],
      "metadata": {
        "colab": {
          "base_uri": "https://localhost:8080/"
        },
        "id": "fRux_agiqQD1",
        "outputId": "b8f232f3-f5a6-40de-dca9-83837a5dddea"
      },
      "execution_count": null,
      "outputs": [
        {
          "output_type": "stream",
          "name": "stdout",
          "text": [
            "\n",
            "--- Cleaning Tourism Data (Final Simplified) ---\n",
            "Tourism Data Cleaned. Using metrics from the latest available year: 2020\n"
          ]
        }
      ]
    },
    {
      "cell_type": "code",
      "source": [
        "print(\"\\n--- Cleaning Flight Price Data  ---\")\n",
        "\n",
        "df_flights.rename(columns={'Price': 'Flight_Price_USD'}, inplace=True)\n",
        "\n",
        "# 1. Cleaning the Price column (Remove commas and convert to numeric)\n",
        "df_flights['Flight_Price_USD'] = (\n",
        "    df_flights['Flight_Price_USD']\n",
        "    .astype(str) # Convert to string first, just in case\n",
        "    .str.replace(',', '', regex=False)\n",
        "    .astype(float)\n",
        ")\n",
        "\n",
        "# 2. Converting Date of Journey (Using DD/MM/YYYY format based on your raw data)\n",
        "df_flights['Date of Journey'] = pd.to_datetime(\n",
        "    df_flights['Date of Journey'],\n",
        "    format='%d/%m/%Y',\n",
        "    errors='coerce' # Convert any bad dates to NaT\n",
        ")\n",
        "\n",
        "# 3. Dropping rows with missing core data (Price or Date)\n",
        "df_flights.dropna(subset=['Flight_Price_USD', 'Date of Journey'], inplace=True)\n",
        "\n",
        "valid_rows = df_flights.shape[0]\n",
        "print(f\"Total valid flight data rows after cleaning: {valid_rows}\")\n",
        "\n",
        "\n",
        "if valid_rows > 0:\n",
        "    #  Feature Engineering: Seasonality\n",
        "    df_flights['Travel_Month'] = df_flights['Date of Journey'].dt.month\n",
        "\n",
        "    # Aggregating for Final Analysis File (Average Price by Month)\n",
        "    df_flights_agg = df_flights.groupby(['Travel_Month']).agg(\n",
        "        Avg_Flight_Price=('Flight_Price_USD', 'mean'),\n",
        "        Total_Samples=('Flight_Price_USD', 'count')\n",
        "    ).reset_index()\n",
        "\n",
        "    # Rerun the export for this file\n",
        "    df_flights_agg.to_csv(\"flights_seasonal_cleaned.csv\", index=False)\n",
        "    print(f\"✅ Flight Price Data Successfully Cleaned and Saved: {df_flights_agg.shape[0]} rows.\")\n",
        "\n",
        "else:\n",
        "    print(\"FATAL ERROR: Flight data is still unusable. Skipping seasonality analysis.\")\n",
        "    df_flights_agg = pd.DataFrame()"
      ],
      "metadata": {
        "colab": {
          "base_uri": "https://localhost:8080/"
        },
        "id": "vnY__buqr2BO",
        "outputId": "9b08ce71-bc2c-46ca-8248-dadf2cbd0c13"
      },
      "execution_count": null,
      "outputs": [
        {
          "output_type": "stream",
          "name": "stdout",
          "text": [
            "\n",
            "--- Cleaning Flight Price Data  ---\n",
            "Total valid flight data rows after cleaning: 452088\n",
            "✅ Flight Price Data Successfully Cleaned and Saved: 3 rows.\n"
          ]
        }
      ]
    },
    {
      "cell_type": "code",
      "source": [
        "print(\"\\n--- Final Merging and Exporting  ---\")\n",
        "\n",
        "\n",
        "# 1. Creating the Country Master File (Merge Tourism and Happiness)\n",
        "df_master_country = pd.merge(\n",
        "    df_tourism_final,\n",
        "    df_happiness_final,\n",
        "    on='Country',\n",
        "    how='inner'\n",
        ")\n",
        "\n",
        "# 2. Export the final files (Creating them in the Colab root)\n",
        "df_master_country.to_csv(\"travel_master_country_data.csv\", index=False)\n",
        "print(f\"✅ Master Country Data saved: travel_master_country_data.csv ({df_master_country.shape[0]} rows)\")\n",
        "\n",
        "df_flights_agg.to_csv(\"flights_seasonal_cleaned.csv\", index=False)\n",
        "print(f\"✅ Flights/Seasonal Data saved: flights_seasonal_cleaned.csv ({df_flights_agg.shape[0]} rows)\")\n",
        "\n",
        "print(\"\\nCleaning Phase Complete! Download these two files for Power BI.\")"
      ],
      "metadata": {
        "colab": {
          "base_uri": "https://localhost:8080/"
        },
        "id": "FpELoDdQsJS9",
        "outputId": "883e7830-6a24-4423-8150-bccf20ddcc8b"
      },
      "execution_count": null,
      "outputs": [
        {
          "output_type": "stream",
          "name": "stdout",
          "text": [
            "\n",
            "--- Final Merging and Exporting  ---\n",
            "✅ Master Country Data saved: travel_master_country_data.csv (61 rows)\n",
            "✅ Flights/Seasonal Data saved: flights_seasonal_cleaned.csv (3 rows)\n",
            "\n",
            "Cleaning Phase Complete! Download these two files for Power BI.\n"
          ]
        }
      ]
    }
  ]
}